{
 "cells": [
  {
   "cell_type": "code",
   "execution_count": 1,
   "id": "8a8a087c",
   "metadata": {
    "scrolled": false
   },
   "outputs": [],
   "source": [
    "!pip install -q -U tensorflow\n",
    "!pip install -q -U keras\n",
    "!pip install -q -U numpy==1.23\n",
    "!pip install -q -U pandas\n",
    "!pip install -q -U tensorflow-addons\n",
    "!pip install -q -U keras-utils"
   ]
  },
  {
   "cell_type": "code",
   "execution_count": 1,
   "id": "cf30dc0c",
   "metadata": {},
   "outputs": [],
   "source": [
    "# Simulando perceptron\n",
    "import numpy  as np"
   ]
  },
  {
   "cell_type": "code",
   "execution_count": 2,
   "id": "37aae145",
   "metadata": {
    "scrolled": true
   },
   "outputs": [],
   "source": [
    "# Ajustando pesos automaticamente\n",
    "entradas = np.array([[0,0],\n",
    "                     [0,1],\n",
    "                     [1,0],\n",
    "                     [1,1]])\n",
    "\n",
    "saida = np.array([0, 0, 0, 1])\n",
    "\n",
    "pesos = np.array([0.0, \n",
    "                  0.0])\n",
    "\n",
    "taxa_aprendizado = 0.65\n",
    "\n",
    "def soma_2(e, p):\n",
    "    return e.dot(p)\n",
    "s = soma_2(entradas, pesos)\n",
    "\n",
    "def degrau(soma):\n",
    "    if(soma >= 1):\n",
    "        return 1\n",
    "    return 0\n",
    "\n",
    "def calculo_saida(reg):\n",
    "    s = reg.dot(pesos)\n",
    "    return degrau(s)"
   ]
  },
  {
   "cell_type": "code",
   "execution_count": 3,
   "id": "78dda5c6",
   "metadata": {},
   "outputs": [
    {
     "name": "stdout",
     "output_type": "stream",
     "text": [
      "Pesos atualizados > 0.0\n",
      "Pesos atualizados > 0.0\n",
      "Pesos atualizados > 0.0\n",
      "Pesos atualizados > 0.0\n",
      "Pesos atualizados > 0.0\n",
      "Pesos atualizados > 0.0\n",
      "Pesos atualizados > 0.65\n",
      "Pesos atualizados > 0.65\n",
      "Total de erros > 1\n",
      "Pesos atualizados > 0.65\n",
      "Pesos atualizados > 0.65\n",
      "Pesos atualizados > 0.65\n",
      "Pesos atualizados > 0.65\n",
      "Pesos atualizados > 0.65\n",
      "Pesos atualizados > 0.65\n",
      "Pesos atualizados > 0.65\n",
      "Pesos atualizados > 0.65\n",
      "Total de erros > 0\n",
      "0\n"
     ]
    }
   ],
   "source": [
    "def calcula_e_atualiza():\n",
    "    erro_total = 1\n",
    "    while(erro_total != 0):\n",
    "        erro_total = 0\n",
    "        \n",
    "        for i in range (len(saida)):\n",
    "            calc_saida = calculo_saida(np.array(entradas[i]))\n",
    "            erro = abs(saida[i] - calc_saida)\n",
    "            erro_total += erro\n",
    "            \n",
    "            for j in range(len(pesos)):\n",
    "                pesos[j] = pesos[j] + (taxa_aprendizado * entradas[i][j] * erro)\n",
    "                print('Pesos atualizados > ' + str(pesos[j]))\n",
    "        print('Total de erros > ' + str(erro_total))\n",
    "calcula_e_atualiza()\n",
    "print(entradas[2][1])"
   ]
  },
  {
   "cell_type": "code",
   "execution_count": null,
   "id": "22de617b",
   "metadata": {},
   "outputs": [],
   "source": []
  }
 ],
 "metadata": {
  "kernelspec": {
   "display_name": "Python 3 (ipykernel)",
   "language": "python",
   "name": "python3"
  },
  "language_info": {
   "codemirror_mode": {
    "name": "ipython",
    "version": 3
   },
   "file_extension": ".py",
   "mimetype": "text/x-python",
   "name": "python",
   "nbconvert_exporter": "python",
   "pygments_lexer": "ipython3",
   "version": "3.10.10"
  }
 },
 "nbformat": 4,
 "nbformat_minor": 5
}
