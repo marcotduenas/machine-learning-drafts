{
 "cells": [
  {
   "cell_type": "code",
   "execution_count": 1,
   "id": "42024b2a",
   "metadata": {
    "scrolled": true
   },
   "outputs": [
    {
     "name": "stderr",
     "output_type": "stream",
     "text": [
      "2023-04-01 17:40:03.460235: I tensorflow/tsl/cuda/cudart_stub.cc:28] Could not find cuda drivers on your machine, GPU will not be used.\n",
      "2023-04-01 17:40:03.501832: I tensorflow/tsl/cuda/cudart_stub.cc:28] Could not find cuda drivers on your machine, GPU will not be used.\n",
      "2023-04-01 17:40:03.502645: I tensorflow/core/platform/cpu_feature_guard.cc:182] This TensorFlow binary is optimized to use available CPU instructions in performance-critical operations.\n",
      "To enable the following instructions: AVX2 FMA, in other operations, rebuild TensorFlow with the appropriate compiler flags.\n",
      "2023-04-01 17:40:04.266531: W tensorflow/compiler/tf2tensorrt/utils/py_utils.cc:38] TF-TRT Warning: Could not find TensorRT\n"
     ]
    }
   ],
   "source": [
    "import tensorflow as tf\n",
    "import numpy as np\n",
    "from keras.models import Sequential\n",
    "from keras.layers import Dense\n",
    "from keras.models import load_model\n",
    "import matplotlib.pyplot as plt"
   ]
  },
  {
   "cell_type": "code",
   "execution_count": 2,
   "id": "240c4dd3",
   "metadata": {},
   "outputs": [
    {
     "name": "stdout",
     "output_type": "stream",
     "text": [
      "Versão da biblioteca TensorFlow: 2.12.0\n"
     ]
    }
   ],
   "source": [
    "print(f'Versão da biblioteca TensorFlow: {tf.__version__}')"
   ]
  },
  {
   "cell_type": "code",
   "execution_count": 3,
   "id": "7367d55f",
   "metadata": {},
   "outputs": [],
   "source": [
    "# Carregando base de dados\n",
    "data = tf.keras.datasets.boston_housing\n",
    "\n",
    "# Divisao em base para treino e base para teste\n",
    "(x_train, y_train), (x_test, y_test) = data.load_data()"
   ]
  },
  {
   "cell_type": "code",
   "execution_count": 4,
   "id": "1e5341f8",
   "metadata": {},
   "outputs": [
    {
     "name": "stdout",
     "output_type": "stream",
     "text": [
      "<class 'numpy.ndarray'>\n"
     ]
    }
   ],
   "source": [
    "# Tipo de dado \n",
    "print(type(x_train))"
   ]
  },
  {
   "cell_type": "code",
   "execution_count": 5,
   "id": "03e1db89",
   "metadata": {},
   "outputs": [
    {
     "name": "stdout",
     "output_type": "stream",
     "text": [
      "(404, 13)\n"
     ]
    }
   ],
   "source": [
    "# Formato dos dados de treino\n",
    "print(x_train.shape)"
   ]
  },
  {
   "cell_type": "code",
   "execution_count": 6,
   "id": "aefa74fa",
   "metadata": {},
   "outputs": [
    {
     "name": "stdout",
     "output_type": "stream",
     "text": [
      "(102, 13)\n"
     ]
    }
   ],
   "source": [
    "# Formato dados teste\n",
    "print(x_test.shape)"
   ]
  },
  {
   "cell_type": "code",
   "execution_count": 7,
   "id": "dad476b8",
   "metadata": {},
   "outputs": [
    {
     "name": "stdout",
     "output_type": "stream",
     "text": [
      "[  1.23247   0.        8.14      0.        0.538     6.142    91.7\n",
      "   3.9769    4.      307.       21.      396.9      18.72   ]\n"
     ]
    }
   ],
   "source": [
    "# Primeira amostra da base de treino\n",
    "print(x_train[0])"
   ]
  },
  {
   "cell_type": "code",
   "execution_count": 8,
   "id": "c449f016",
   "metadata": {},
   "outputs": [
    {
     "name": "stdout",
     "output_type": "stream",
     "text": [
      "7.2\n"
     ]
    }
   ],
   "source": [
    "# Primeira amostra da base de teste\n",
    "print(y_test[0])"
   ]
  },
  {
   "cell_type": "code",
   "execution_count": 9,
   "id": "45208486",
   "metadata": {},
   "outputs": [],
   "source": [
    "# Normalização através da média e desvio padrão\n",
    "media = x_train.mean(axis = 0)\n",
    "desvio = x_train.std(axis = 0)\n",
    "\n",
    "x_train = (x_train - media)/desvio\n",
    "x_test = (x_test - media)/desvio"
   ]
  },
  {
   "cell_type": "code",
   "execution_count": 10,
   "id": "abb3394b",
   "metadata": {},
   "outputs": [
    {
     "name": "stderr",
     "output_type": "stream",
     "text": [
      "2023-04-01 17:40:06.168372: I tensorflow/compiler/xla/stream_executor/cuda/cuda_gpu_executor.cc:982] could not open file to read NUMA node: /sys/bus/pci/devices/0000:01:00.0/numa_node\n",
      "Your kernel may have been built without NUMA support.\n",
      "2023-04-01 17:40:06.170560: W tensorflow/core/common_runtime/gpu/gpu_device.cc:1956] Cannot dlopen some GPU libraries. Please make sure the missing libraries mentioned above are installed properly if you would like to use GPU. Follow the guide at https://www.tensorflow.org/install/gpu for how to download and setup the required libraries for your platform.\n",
      "Skipping registering GPU devices...\n"
     ]
    }
   ],
   "source": [
    "# Definição do modelo\n",
    "model = Sequential([\n",
    "    Dense(units = 256,\n",
    "          activation = 'relu',\n",
    "          input_shape = [13]),\n",
    "    Dense(units = 128,\n",
    "         activation = 'relu'),\n",
    "    Dense(units = 64,\n",
    "         activation = 'relu'),\n",
    "    Dense(units = 1)\n",
    "])"
   ]
  },
  {
   "cell_type": "code",
   "execution_count": 11,
   "id": "dc3c9af3",
   "metadata": {},
   "outputs": [
    {
     "name": "stdout",
     "output_type": "stream",
     "text": [
      "Model: \"sequential\"\n",
      "_________________________________________________________________\n",
      " Layer (type)                Output Shape              Param #   \n",
      "=================================================================\n",
      " dense (Dense)               (None, 256)               3584      \n",
      "                                                                 \n",
      " dense_1 (Dense)             (None, 128)               32896     \n",
      "                                                                 \n",
      " dense_2 (Dense)             (None, 64)                8256      \n",
      "                                                                 \n",
      " dense_3 (Dense)             (None, 1)                 65        \n",
      "                                                                 \n",
      "=================================================================\n",
      "Total params: 44,801\n",
      "Trainable params: 44,801\n",
      "Non-trainable params: 0\n",
      "_________________________________________________________________\n"
     ]
    }
   ],
   "source": [
    "model.summary()"
   ]
  },
  {
   "cell_type": "code",
   "execution_count": 12,
   "id": "b34b6912",
   "metadata": {},
   "outputs": [],
   "source": [
    "model.compile(optimizer = 'adam',\n",
    "              loss = 'mse', #Erro quadrático médio\n",
    "              metrics = ['mae']) # Erro absoluto médio"
   ]
  },
  {
   "cell_type": "code",
   "execution_count": 13,
   "id": "b2e0e0ba",
   "metadata": {},
   "outputs": [
    {
     "name": "stdout",
     "output_type": "stream",
     "text": [
      "CPU times: user 22 µs, sys: 5 µs, total: 27 µs\n",
      "Wall time: 39.1 µs\n",
      "Epoch 1/200\n",
      "11/11 [==============================] - 1s 16ms/step - loss: 525.6942 - mae: 20.9778 - val_loss: 514.6495 - val_mae: 20.6952\n",
      "Epoch 2/200\n",
      "11/11 [==============================] - 0s 4ms/step - loss: 351.7709 - mae: 16.4235 - val_loss: 253.7385 - val_mae: 13.5330\n",
      "Epoch 3/200\n",
      "11/11 [==============================] - 0s 4ms/step - loss: 125.1394 - mae: 8.9664 - val_loss: 77.5301 - val_mae: 6.8669\n",
      "Epoch 4/200\n",
      "11/11 [==============================] - 0s 4ms/step - loss: 75.7704 - mae: 6.5012 - val_loss: 47.9052 - val_mae: 5.2284\n",
      "Epoch 5/200\n",
      "11/11 [==============================] - 0s 4ms/step - loss: 40.1309 - mae: 4.4693 - val_loss: 39.7482 - val_mae: 4.5090\n",
      "Epoch 6/200\n",
      "11/11 [==============================] - 0s 4ms/step - loss: 27.4453 - mae: 3.5774 - val_loss: 23.6498 - val_mae: 3.6686\n",
      "Epoch 7/200\n",
      "11/11 [==============================] - 0s 5ms/step - loss: 22.5260 - mae: 3.3805 - val_loss: 21.0054 - val_mae: 3.4681\n",
      "Epoch 8/200\n",
      "11/11 [==============================] - 0s 4ms/step - loss: 19.7498 - mae: 3.1358 - val_loss: 19.2000 - val_mae: 3.3020\n",
      "Epoch 9/200\n",
      "11/11 [==============================] - 0s 4ms/step - loss: 17.8036 - mae: 2.9196 - val_loss: 17.6422 - val_mae: 3.1669\n",
      "Epoch 10/200\n",
      "11/11 [==============================] - 0s 4ms/step - loss: 16.9214 - mae: 2.9044 - val_loss: 16.3658 - val_mae: 3.0535\n",
      "Epoch 11/200\n",
      "11/11 [==============================] - 0s 4ms/step - loss: 15.1380 - mae: 2.7365 - val_loss: 15.7427 - val_mae: 2.9711\n",
      "Epoch 12/200\n",
      "11/11 [==============================] - 0s 5ms/step - loss: 14.3025 - mae: 2.6552 - val_loss: 14.9206 - val_mae: 2.9349\n",
      "Epoch 13/200\n",
      "11/11 [==============================] - 0s 4ms/step - loss: 13.8782 - mae: 2.5615 - val_loss: 14.3547 - val_mae: 2.8830\n",
      "Epoch 14/200\n",
      "11/11 [==============================] - 0s 4ms/step - loss: 14.7705 - mae: 2.8793 - val_loss: 16.0308 - val_mae: 2.9547\n",
      "Epoch 15/200\n",
      "11/11 [==============================] - 0s 4ms/step - loss: 13.1264 - mae: 2.5487 - val_loss: 13.8323 - val_mae: 2.8923\n",
      "Epoch 16/200\n",
      "11/11 [==============================] - 0s 4ms/step - loss: 12.4661 - mae: 2.4622 - val_loss: 13.5825 - val_mae: 2.7581\n",
      "Epoch 17/200\n",
      "11/11 [==============================] - 0s 5ms/step - loss: 11.6994 - mae: 2.4584 - val_loss: 13.3465 - val_mae: 2.7193\n",
      "Epoch 18/200\n",
      "11/11 [==============================] - 0s 4ms/step - loss: 11.0483 - mae: 2.3452 - val_loss: 12.9274 - val_mae: 2.6905\n",
      "Epoch 19/200\n",
      "11/11 [==============================] - 0s 5ms/step - loss: 10.7651 - mae: 2.2944 - val_loss: 12.4603 - val_mae: 2.6623\n",
      "Epoch 20/200\n",
      "11/11 [==============================] - 0s 5ms/step - loss: 10.4971 - mae: 2.2716 - val_loss: 12.9993 - val_mae: 2.6566\n",
      "Epoch 21/200\n",
      "11/11 [==============================] - 0s 4ms/step - loss: 10.1838 - mae: 2.2665 - val_loss: 12.7579 - val_mae: 2.6459\n",
      "Epoch 22/200\n",
      "11/11 [==============================] - 0s 5ms/step - loss: 9.8798 - mae: 2.2030 - val_loss: 12.1260 - val_mae: 2.6573\n",
      "Epoch 23/200\n",
      "11/11 [==============================] - 0s 5ms/step - loss: 9.6807 - mae: 2.1562 - val_loss: 12.3593 - val_mae: 2.6217\n",
      "Epoch 24/200\n",
      "11/11 [==============================] - 0s 4ms/step - loss: 9.6751 - mae: 2.2111 - val_loss: 13.3172 - val_mae: 2.6216\n",
      "Epoch 25/200\n",
      "11/11 [==============================] - 0s 4ms/step - loss: 9.5219 - mae: 2.1398 - val_loss: 12.7100 - val_mae: 2.6216\n",
      "Epoch 26/200\n",
      "11/11 [==============================] - 0s 5ms/step - loss: 9.2386 - mae: 2.1017 - val_loss: 13.0583 - val_mae: 2.6100\n",
      "Epoch 27/200\n",
      "11/11 [==============================] - 0s 5ms/step - loss: 8.9802 - mae: 2.0801 - val_loss: 12.4301 - val_mae: 2.5896\n",
      "Epoch 28/200\n",
      "11/11 [==============================] - 0s 6ms/step - loss: 9.0899 - mae: 2.1361 - val_loss: 13.1722 - val_mae: 2.5984\n",
      "Epoch 29/200\n",
      "11/11 [==============================] - 0s 4ms/step - loss: 8.7774 - mae: 2.0506 - val_loss: 12.6446 - val_mae: 2.6750\n",
      "Epoch 30/200\n",
      "11/11 [==============================] - 0s 5ms/step - loss: 8.6556 - mae: 2.0475 - val_loss: 14.3637 - val_mae: 2.6670\n",
      "Epoch 31/200\n",
      "11/11 [==============================] - 0s 4ms/step - loss: 8.3983 - mae: 2.0744 - val_loss: 13.3798 - val_mae: 2.6237\n",
      "Epoch 32/200\n",
      "11/11 [==============================] - 0s 4ms/step - loss: 8.1872 - mae: 1.9908 - val_loss: 12.4927 - val_mae: 2.5613\n",
      "Epoch 33/200\n",
      "11/11 [==============================] - 0s 4ms/step - loss: 8.7436 - mae: 2.0039 - val_loss: 12.9949 - val_mae: 2.6515\n",
      "Epoch 34/200\n",
      "11/11 [==============================] - 0s 5ms/step - loss: 8.6823 - mae: 2.1477 - val_loss: 13.7293 - val_mae: 2.5734\n",
      "Epoch 35/200\n",
      "11/11 [==============================] - 0s 5ms/step - loss: 8.2201 - mae: 2.0429 - val_loss: 13.7115 - val_mae: 2.7386\n",
      "Epoch 36/200\n",
      "11/11 [==============================] - 0s 4ms/step - loss: 7.7050 - mae: 1.9549 - val_loss: 13.2004 - val_mae: 2.5633\n",
      "Epoch 37/200\n",
      "11/11 [==============================] - 0s 4ms/step - loss: 7.6586 - mae: 1.9741 - val_loss: 13.5333 - val_mae: 2.6042\n",
      "Epoch 38/200\n",
      "11/11 [==============================] - 0s 4ms/step - loss: 7.6121 - mae: 1.8885 - val_loss: 13.0929 - val_mae: 2.5846\n",
      "Epoch 39/200\n",
      "11/11 [==============================] - 0s 4ms/step - loss: 7.4253 - mae: 1.8804 - val_loss: 14.7117 - val_mae: 2.6237\n",
      "Epoch 40/200\n",
      "11/11 [==============================] - 0s 4ms/step - loss: 8.6094 - mae: 2.1226 - val_loss: 14.7840 - val_mae: 2.6845\n",
      "Epoch 41/200\n",
      "11/11 [==============================] - 0s 4ms/step - loss: 8.1293 - mae: 1.9796 - val_loss: 13.3816 - val_mae: 2.7370\n",
      "Epoch 42/200\n",
      "11/11 [==============================] - 0s 4ms/step - loss: 8.7208 - mae: 2.2085 - val_loss: 13.6110 - val_mae: 2.5911\n",
      "Epoch 43/200\n",
      "11/11 [==============================] - 0s 5ms/step - loss: 7.6964 - mae: 2.0263 - val_loss: 12.4117 - val_mae: 2.6580\n",
      "Epoch 44/200\n",
      "11/11 [==============================] - 0s 4ms/step - loss: 7.0867 - mae: 1.9026 - val_loss: 13.0339 - val_mae: 2.5383\n",
      "Epoch 45/200\n",
      "11/11 [==============================] - 0s 4ms/step - loss: 6.7621 - mae: 1.8702 - val_loss: 12.6204 - val_mae: 2.5370\n",
      "Epoch 46/200\n",
      "11/11 [==============================] - 0s 4ms/step - loss: 7.1651 - mae: 1.9010 - val_loss: 14.4546 - val_mae: 2.7374\n",
      "Epoch 47/200\n",
      "11/11 [==============================] - 0s 4ms/step - loss: 6.5577 - mae: 1.8327 - val_loss: 13.0520 - val_mae: 2.5434\n",
      "Epoch 48/200\n",
      "11/11 [==============================] - 0s 4ms/step - loss: 6.3628 - mae: 1.7920 - val_loss: 12.3679 - val_mae: 2.4692\n",
      "Epoch 49/200\n",
      "11/11 [==============================] - 0s 4ms/step - loss: 6.3135 - mae: 1.7907 - val_loss: 12.0814 - val_mae: 2.4680\n",
      "Epoch 50/200\n",
      "11/11 [==============================] - 0s 4ms/step - loss: 6.3212 - mae: 1.7657 - val_loss: 12.5921 - val_mae: 2.5038\n",
      "Epoch 51/200\n",
      "11/11 [==============================] - 0s 4ms/step - loss: 6.2119 - mae: 1.7743 - val_loss: 12.7737 - val_mae: 2.5126\n",
      "Epoch 52/200\n",
      "11/11 [==============================] - 0s 4ms/step - loss: 6.2713 - mae: 1.7769 - val_loss: 13.5974 - val_mae: 2.6224\n",
      "Epoch 53/200\n",
      "11/11 [==============================] - 0s 4ms/step - loss: 6.2921 - mae: 1.7667 - val_loss: 12.9515 - val_mae: 2.5024\n",
      "Epoch 54/200\n",
      "11/11 [==============================] - 0s 4ms/step - loss: 6.3607 - mae: 1.8238 - val_loss: 12.3382 - val_mae: 2.4780\n",
      "Epoch 55/200\n",
      "11/11 [==============================] - 0s 4ms/step - loss: 6.1491 - mae: 1.7189 - val_loss: 12.9184 - val_mae: 2.4923\n",
      "Epoch 56/200\n",
      "11/11 [==============================] - 0s 4ms/step - loss: 5.7849 - mae: 1.6635 - val_loss: 13.0261 - val_mae: 2.4831\n",
      "Epoch 57/200\n",
      "11/11 [==============================] - 0s 4ms/step - loss: 6.2743 - mae: 1.7879 - val_loss: 11.7618 - val_mae: 2.4206\n",
      "Epoch 58/200\n",
      "11/11 [==============================] - 0s 5ms/step - loss: 6.2025 - mae: 1.7208 - val_loss: 12.9793 - val_mae: 2.5042\n",
      "Epoch 59/200\n",
      "11/11 [==============================] - 0s 5ms/step - loss: 6.0630 - mae: 1.7551 - val_loss: 12.7084 - val_mae: 2.4565\n",
      "Epoch 60/200\n",
      "11/11 [==============================] - 0s 4ms/step - loss: 5.5086 - mae: 1.6253 - val_loss: 11.8829 - val_mae: 2.5000\n",
      "Epoch 61/200\n",
      "11/11 [==============================] - 0s 5ms/step - loss: 6.2428 - mae: 1.7727 - val_loss: 14.1042 - val_mae: 2.5666\n"
     ]
    },
    {
     "name": "stdout",
     "output_type": "stream",
     "text": [
      "Epoch 62/200\n",
      "11/11 [==============================] - 0s 4ms/step - loss: 6.1679 - mae: 1.7882 - val_loss: 14.4639 - val_mae: 2.6273\n",
      "Epoch 63/200\n",
      "11/11 [==============================] - 0s 4ms/step - loss: 5.7046 - mae: 1.7112 - val_loss: 12.9927 - val_mae: 2.5403\n",
      "Epoch 64/200\n",
      "11/11 [==============================] - 0s 4ms/step - loss: 5.8222 - mae: 1.7094 - val_loss: 14.3677 - val_mae: 2.6263\n",
      "Epoch 65/200\n",
      "11/11 [==============================] - 0s 4ms/step - loss: 5.4733 - mae: 1.6179 - val_loss: 12.6200 - val_mae: 2.4540\n",
      "Epoch 66/200\n",
      "11/11 [==============================] - 0s 4ms/step - loss: 6.1100 - mae: 1.7882 - val_loss: 12.9160 - val_mae: 2.5583\n",
      "Epoch 67/200\n",
      "11/11 [==============================] - 0s 4ms/step - loss: 5.8763 - mae: 1.7309 - val_loss: 13.6284 - val_mae: 2.5399\n",
      "Epoch 68/200\n",
      "11/11 [==============================] - 0s 4ms/step - loss: 5.4248 - mae: 1.6605 - val_loss: 13.9664 - val_mae: 2.4462\n",
      "Epoch 69/200\n",
      "11/11 [==============================] - 0s 5ms/step - loss: 5.5818 - mae: 1.7255 - val_loss: 14.7306 - val_mae: 2.5650\n",
      "Epoch 70/200\n",
      "11/11 [==============================] - 0s 4ms/step - loss: 5.3408 - mae: 1.6148 - val_loss: 13.8668 - val_mae: 2.4622\n",
      "Epoch 71/200\n",
      "11/11 [==============================] - 0s 4ms/step - loss: 5.2232 - mae: 1.6351 - val_loss: 12.1413 - val_mae: 2.4494\n",
      "Epoch 72/200\n",
      "11/11 [==============================] - 0s 4ms/step - loss: 5.1463 - mae: 1.5780 - val_loss: 12.6931 - val_mae: 2.3965\n",
      "Epoch 73/200\n",
      "11/11 [==============================] - 0s 4ms/step - loss: 5.1249 - mae: 1.6140 - val_loss: 11.8591 - val_mae: 2.3716\n",
      "Epoch 74/200\n",
      "11/11 [==============================] - 0s 4ms/step - loss: 4.6740 - mae: 1.5116 - val_loss: 13.4173 - val_mae: 2.4275\n",
      "Epoch 75/200\n",
      "11/11 [==============================] - 0s 4ms/step - loss: 4.9736 - mae: 1.5304 - val_loss: 13.4056 - val_mae: 2.4671\n",
      "Epoch 76/200\n",
      "11/11 [==============================] - 0s 5ms/step - loss: 4.7421 - mae: 1.5294 - val_loss: 12.1637 - val_mae: 2.3800\n",
      "Epoch 77/200\n",
      "11/11 [==============================] - 0s 4ms/step - loss: 4.5216 - mae: 1.4997 - val_loss: 11.8853 - val_mae: 2.3814\n",
      "Epoch 78/200\n",
      "11/11 [==============================] - 0s 4ms/step - loss: 4.4721 - mae: 1.4622 - val_loss: 12.1076 - val_mae: 2.4015\n",
      "Epoch 79/200\n",
      "11/11 [==============================] - 0s 4ms/step - loss: 4.9454 - mae: 1.5738 - val_loss: 13.4256 - val_mae: 2.4643\n",
      "Epoch 80/200\n",
      "11/11 [==============================] - 0s 4ms/step - loss: 4.5144 - mae: 1.4914 - val_loss: 12.0541 - val_mae: 2.3918\n",
      "Epoch 81/200\n",
      "11/11 [==============================] - 0s 4ms/step - loss: 4.4284 - mae: 1.4826 - val_loss: 13.2694 - val_mae: 2.3954\n",
      "Epoch 82/200\n",
      "11/11 [==============================] - 0s 6ms/step - loss: 4.3280 - mae: 1.4771 - val_loss: 12.1040 - val_mae: 2.3621\n",
      "Epoch 83/200\n",
      "11/11 [==============================] - 0s 4ms/step - loss: 4.5277 - mae: 1.4747 - val_loss: 12.1059 - val_mae: 2.4181\n",
      "Epoch 84/200\n",
      "11/11 [==============================] - 0s 4ms/step - loss: 4.2507 - mae: 1.4507 - val_loss: 12.7203 - val_mae: 2.3847\n",
      "Epoch 85/200\n",
      "11/11 [==============================] - 0s 4ms/step - loss: 4.1532 - mae: 1.4611 - val_loss: 12.5807 - val_mae: 2.4288\n",
      "Epoch 86/200\n",
      "11/11 [==============================] - 0s 4ms/step - loss: 4.4630 - mae: 1.5140 - val_loss: 12.2398 - val_mae: 2.3784\n",
      "Epoch 87/200\n",
      "11/11 [==============================] - 0s 4ms/step - loss: 4.2521 - mae: 1.4751 - val_loss: 12.1173 - val_mae: 2.4148\n",
      "Epoch 88/200\n",
      "11/11 [==============================] - 0s 6ms/step - loss: 4.0340 - mae: 1.3952 - val_loss: 12.0924 - val_mae: 2.3735\n",
      "Epoch 89/200\n",
      "11/11 [==============================] - 0s 4ms/step - loss: 4.1558 - mae: 1.4340 - val_loss: 12.3112 - val_mae: 2.3790\n",
      "Epoch 90/200\n",
      "11/11 [==============================] - 0s 4ms/step - loss: 4.1757 - mae: 1.4637 - val_loss: 11.2972 - val_mae: 2.3233\n",
      "Epoch 91/200\n",
      "11/11 [==============================] - 0s 4ms/step - loss: 4.0700 - mae: 1.4615 - val_loss: 11.9614 - val_mae: 2.3884\n",
      "Epoch 92/200\n",
      "11/11 [==============================] - 0s 4ms/step - loss: 4.1486 - mae: 1.4484 - val_loss: 12.0655 - val_mae: 2.3465\n",
      "Epoch 93/200\n",
      "11/11 [==============================] - 0s 4ms/step - loss: 4.1912 - mae: 1.4934 - val_loss: 11.9714 - val_mae: 2.3617\n",
      "Epoch 94/200\n",
      "11/11 [==============================] - 0s 4ms/step - loss: 3.7998 - mae: 1.3556 - val_loss: 12.5212 - val_mae: 2.3435\n",
      "Epoch 95/200\n",
      "11/11 [==============================] - 0s 4ms/step - loss: 3.9029 - mae: 1.3812 - val_loss: 11.7456 - val_mae: 2.3326\n",
      "Epoch 96/200\n",
      "11/11 [==============================] - 0s 4ms/step - loss: 3.6551 - mae: 1.3637 - val_loss: 11.2372 - val_mae: 2.3100\n",
      "Epoch 97/200\n",
      "11/11 [==============================] - 0s 6ms/step - loss: 3.8165 - mae: 1.3597 - val_loss: 12.0426 - val_mae: 2.2956\n",
      "Epoch 98/200\n",
      "11/11 [==============================] - 0s 5ms/step - loss: 3.5666 - mae: 1.3432 - val_loss: 11.3864 - val_mae: 2.3436\n",
      "Epoch 99/200\n",
      "11/11 [==============================] - 0s 4ms/step - loss: 3.9012 - mae: 1.3909 - val_loss: 13.0629 - val_mae: 2.3682\n",
      "Epoch 100/200\n",
      "11/11 [==============================] - 0s 4ms/step - loss: 3.7271 - mae: 1.3500 - val_loss: 12.5865 - val_mae: 2.3433\n",
      "Epoch 101/200\n",
      "11/11 [==============================] - 0s 4ms/step - loss: 4.0454 - mae: 1.4434 - val_loss: 11.0678 - val_mae: 2.3484\n",
      "Epoch 102/200\n",
      "11/11 [==============================] - 0s 4ms/step - loss: 3.8621 - mae: 1.3716 - val_loss: 13.8206 - val_mae: 2.4463\n",
      "Epoch 103/200\n",
      "11/11 [==============================] - 0s 4ms/step - loss: 4.4518 - mae: 1.4957 - val_loss: 11.1782 - val_mae: 2.3446\n",
      "Epoch 104/200\n",
      "11/11 [==============================] - 0s 4ms/step - loss: 3.6038 - mae: 1.3374 - val_loss: 11.8786 - val_mae: 2.3520\n",
      "Epoch 105/200\n",
      "11/11 [==============================] - 0s 4ms/step - loss: 3.5794 - mae: 1.3313 - val_loss: 11.6980 - val_mae: 2.2752\n",
      "Epoch 106/200\n",
      "11/11 [==============================] - 0s 4ms/step - loss: 3.3713 - mae: 1.2929 - val_loss: 12.1894 - val_mae: 2.3160\n",
      "Epoch 107/200\n",
      "11/11 [==============================] - 0s 4ms/step - loss: 3.2849 - mae: 1.2863 - val_loss: 11.1774 - val_mae: 2.2782\n",
      "Epoch 108/200\n",
      "11/11 [==============================] - 0s 4ms/step - loss: 3.3863 - mae: 1.2983 - val_loss: 12.0538 - val_mae: 2.3226\n",
      "Epoch 109/200\n",
      "11/11 [==============================] - 0s 4ms/step - loss: 3.4612 - mae: 1.3440 - val_loss: 10.7910 - val_mae: 2.2480\n",
      "Epoch 110/200\n",
      "11/11 [==============================] - 0s 4ms/step - loss: 3.1695 - mae: 1.2608 - val_loss: 11.7678 - val_mae: 2.2695\n",
      "Epoch 111/200\n",
      "11/11 [==============================] - 0s 4ms/step - loss: 3.1395 - mae: 1.2669 - val_loss: 11.8898 - val_mae: 2.3233\n",
      "Epoch 112/200\n",
      "11/11 [==============================] - 0s 4ms/step - loss: 3.3361 - mae: 1.2965 - val_loss: 12.1074 - val_mae: 2.2830\n",
      "Epoch 113/200\n",
      "11/11 [==============================] - 0s 4ms/step - loss: 3.3696 - mae: 1.3207 - val_loss: 11.2568 - val_mae: 2.2475\n",
      "Epoch 114/200\n",
      "11/11 [==============================] - 0s 4ms/step - loss: 4.4008 - mae: 1.4935 - val_loss: 12.7269 - val_mae: 2.4506\n",
      "Epoch 115/200\n",
      "11/11 [==============================] - 0s 4ms/step - loss: 4.1460 - mae: 1.4720 - val_loss: 10.7591 - val_mae: 2.2987\n",
      "Epoch 116/200\n",
      "11/11 [==============================] - 0s 4ms/step - loss: 3.4478 - mae: 1.3154 - val_loss: 11.7898 - val_mae: 2.2533\n",
      "Epoch 117/200\n",
      "11/11 [==============================] - 0s 5ms/step - loss: 3.1194 - mae: 1.2771 - val_loss: 10.9377 - val_mae: 2.2702\n",
      "Epoch 118/200\n",
      "11/11 [==============================] - 0s 4ms/step - loss: 2.9490 - mae: 1.2339 - val_loss: 12.3346 - val_mae: 2.2953\n",
      "Epoch 119/200\n",
      "11/11 [==============================] - 0s 4ms/step - loss: 3.0676 - mae: 1.2243 - val_loss: 11.7883 - val_mae: 2.2755\n",
      "Epoch 120/200\n",
      "11/11 [==============================] - 0s 4ms/step - loss: 3.0723 - mae: 1.2651 - val_loss: 11.6516 - val_mae: 2.3090\n",
      "Epoch 121/200\n",
      "11/11 [==============================] - 0s 4ms/step - loss: 3.0255 - mae: 1.2411 - val_loss: 12.6750 - val_mae: 2.3198\n",
      "Epoch 122/200\n",
      "11/11 [==============================] - 0s 4ms/step - loss: 3.2583 - mae: 1.3404 - val_loss: 10.7486 - val_mae: 2.2610\n",
      "Epoch 123/200\n"
     ]
    },
    {
     "name": "stdout",
     "output_type": "stream",
     "text": [
      "11/11 [==============================] - 0s 4ms/step - loss: 3.0909 - mae: 1.2602 - val_loss: 11.2055 - val_mae: 2.2485\n",
      "Epoch 124/200\n",
      "11/11 [==============================] - 0s 4ms/step - loss: 3.1708 - mae: 1.2941 - val_loss: 12.3581 - val_mae: 2.3199\n",
      "Epoch 125/200\n",
      "11/11 [==============================] - 0s 4ms/step - loss: 3.5734 - mae: 1.3931 - val_loss: 10.8032 - val_mae: 2.2465\n",
      "Epoch 126/200\n",
      "11/11 [==============================] - 0s 4ms/step - loss: 2.9850 - mae: 1.2388 - val_loss: 12.9577 - val_mae: 2.3858\n",
      "Epoch 127/200\n",
      "11/11 [==============================] - 0s 4ms/step - loss: 3.7910 - mae: 1.4153 - val_loss: 11.7823 - val_mae: 2.2518\n",
      "Epoch 128/200\n",
      "11/11 [==============================] - 0s 4ms/step - loss: 3.6888 - mae: 1.3844 - val_loss: 13.2172 - val_mae: 2.3646\n",
      "Epoch 129/200\n",
      "11/11 [==============================] - 0s 4ms/step - loss: 3.2471 - mae: 1.2804 - val_loss: 12.4179 - val_mae: 2.3286\n",
      "Epoch 130/200\n",
      "11/11 [==============================] - 0s 4ms/step - loss: 3.2386 - mae: 1.2979 - val_loss: 11.1604 - val_mae: 2.2013\n",
      "Epoch 131/200\n",
      "11/11 [==============================] - 0s 4ms/step - loss: 2.8218 - mae: 1.1877 - val_loss: 11.6666 - val_mae: 2.2400\n",
      "Epoch 132/200\n",
      "11/11 [==============================] - 0s 4ms/step - loss: 2.9795 - mae: 1.2840 - val_loss: 10.9809 - val_mae: 2.2877\n",
      "Epoch 133/200\n",
      "11/11 [==============================] - 0s 5ms/step - loss: 2.7766 - mae: 1.1884 - val_loss: 11.1197 - val_mae: 2.2077\n",
      "Epoch 134/200\n",
      "11/11 [==============================] - 0s 4ms/step - loss: 2.6891 - mae: 1.1702 - val_loss: 10.1002 - val_mae: 2.1906\n",
      "Epoch 135/200\n",
      "11/11 [==============================] - 0s 4ms/step - loss: 2.6653 - mae: 1.1729 - val_loss: 12.0467 - val_mae: 2.2821\n",
      "Epoch 136/200\n",
      "11/11 [==============================] - 0s 4ms/step - loss: 2.8369 - mae: 1.2286 - val_loss: 9.9579 - val_mae: 2.1506\n",
      "Epoch 137/200\n",
      "11/11 [==============================] - 0s 4ms/step - loss: 2.6468 - mae: 1.1572 - val_loss: 11.1811 - val_mae: 2.1900\n",
      "Epoch 138/200\n",
      "11/11 [==============================] - 0s 4ms/step - loss: 2.4533 - mae: 1.1031 - val_loss: 10.0441 - val_mae: 2.1774\n",
      "Epoch 139/200\n",
      "11/11 [==============================] - 0s 4ms/step - loss: 2.7309 - mae: 1.1814 - val_loss: 12.6947 - val_mae: 2.4305\n",
      "Epoch 140/200\n",
      "11/11 [==============================] - 0s 4ms/step - loss: 5.6713 - mae: 1.7740 - val_loss: 12.0004 - val_mae: 2.4951\n",
      "Epoch 141/200\n",
      "11/11 [==============================] - 0s 4ms/step - loss: 4.0210 - mae: 1.5451 - val_loss: 14.2351 - val_mae: 2.4484\n",
      "Epoch 142/200\n",
      "11/11 [==============================] - 0s 4ms/step - loss: 3.1525 - mae: 1.3091 - val_loss: 10.2929 - val_mae: 2.2299\n",
      "Epoch 143/200\n",
      "11/11 [==============================] - 0s 5ms/step - loss: 2.6131 - mae: 1.1738 - val_loss: 10.9932 - val_mae: 2.2414\n",
      "Epoch 144/200\n",
      "11/11 [==============================] - 0s 6ms/step - loss: 2.7642 - mae: 1.2039 - val_loss: 12.2433 - val_mae: 2.2964\n",
      "Epoch 145/200\n",
      "11/11 [==============================] - 0s 4ms/step - loss: 2.8214 - mae: 1.2454 - val_loss: 11.3468 - val_mae: 2.2778\n",
      "Epoch 146/200\n",
      "11/11 [==============================] - 0s 4ms/step - loss: 2.7661 - mae: 1.1835 - val_loss: 11.1493 - val_mae: 2.2831\n",
      "Epoch 147/200\n",
      "11/11 [==============================] - 0s 4ms/step - loss: 4.5421 - mae: 1.6107 - val_loss: 14.1959 - val_mae: 2.6135\n",
      "Epoch 148/200\n",
      "11/11 [==============================] - 0s 4ms/step - loss: 3.2545 - mae: 1.3362 - val_loss: 10.3828 - val_mae: 2.1741\n",
      "Epoch 149/200\n",
      "11/11 [==============================] - 0s 4ms/step - loss: 2.4872 - mae: 1.1086 - val_loss: 10.6143 - val_mae: 2.1958\n",
      "Epoch 150/200\n",
      "11/11 [==============================] - 0s 4ms/step - loss: 2.3772 - mae: 1.1174 - val_loss: 12.5611 - val_mae: 2.3024\n",
      "Epoch 151/200\n",
      "11/11 [==============================] - 0s 4ms/step - loss: 2.5405 - mae: 1.1583 - val_loss: 11.0000 - val_mae: 2.2626\n",
      "Epoch 152/200\n",
      "11/11 [==============================] - 0s 4ms/step - loss: 2.3162 - mae: 1.1037 - val_loss: 10.5207 - val_mae: 2.1994\n",
      "Epoch 153/200\n",
      "11/11 [==============================] - 0s 4ms/step - loss: 3.6931 - mae: 1.3053 - val_loss: 9.7323 - val_mae: 2.1666\n",
      "Epoch 154/200\n",
      "11/11 [==============================] - 0s 4ms/step - loss: 2.5522 - mae: 1.1991 - val_loss: 10.9937 - val_mae: 2.2934\n",
      "Epoch 155/200\n",
      "11/11 [==============================] - 0s 4ms/step - loss: 2.5869 - mae: 1.1902 - val_loss: 10.6398 - val_mae: 2.2148\n",
      "Epoch 156/200\n",
      "11/11 [==============================] - 0s 4ms/step - loss: 2.1658 - mae: 1.0707 - val_loss: 10.2871 - val_mae: 2.1713\n",
      "Epoch 157/200\n",
      "11/11 [==============================] - 0s 4ms/step - loss: 2.3951 - mae: 1.1205 - val_loss: 11.2949 - val_mae: 2.2416\n",
      "Epoch 158/200\n",
      "11/11 [==============================] - 0s 4ms/step - loss: 2.2523 - mae: 1.0707 - val_loss: 10.1422 - val_mae: 2.1896\n",
      "Epoch 159/200\n",
      "11/11 [==============================] - 0s 5ms/step - loss: 2.3740 - mae: 1.1448 - val_loss: 11.0047 - val_mae: 2.2090\n",
      "Epoch 160/200\n",
      "11/11 [==============================] - 0s 4ms/step - loss: 2.7173 - mae: 1.1925 - val_loss: 9.9949 - val_mae: 2.2391\n",
      "Epoch 161/200\n",
      "11/11 [==============================] - 0s 4ms/step - loss: 2.9656 - mae: 1.2776 - val_loss: 12.5210 - val_mae: 2.3958\n",
      "Epoch 162/200\n",
      "11/11 [==============================] - 0s 4ms/step - loss: 2.7252 - mae: 1.1999 - val_loss: 10.4771 - val_mae: 2.2432\n",
      "Epoch 163/200\n",
      "11/11 [==============================] - 0s 5ms/step - loss: 2.3725 - mae: 1.1050 - val_loss: 11.9743 - val_mae: 2.3102\n",
      "Epoch 164/200\n",
      "11/11 [==============================] - 0s 4ms/step - loss: 2.2989 - mae: 1.0826 - val_loss: 10.8284 - val_mae: 2.2261\n",
      "Epoch 165/200\n",
      "11/11 [==============================] - 0s 5ms/step - loss: 2.5557 - mae: 1.2008 - val_loss: 10.8752 - val_mae: 2.3687\n",
      "Epoch 166/200\n",
      "11/11 [==============================] - 0s 4ms/step - loss: 2.6691 - mae: 1.2156 - val_loss: 11.5115 - val_mae: 2.2878\n",
      "Epoch 167/200\n",
      "11/11 [==============================] - 0s 4ms/step - loss: 2.0973 - mae: 1.0362 - val_loss: 10.6665 - val_mae: 2.1950\n",
      "Epoch 168/200\n",
      "11/11 [==============================] - 0s 4ms/step - loss: 2.2389 - mae: 1.0930 - val_loss: 10.3949 - val_mae: 2.2131\n",
      "Epoch 169/200\n",
      "11/11 [==============================] - 0s 4ms/step - loss: 2.5125 - mae: 1.1519 - val_loss: 11.2092 - val_mae: 2.2933\n",
      "Epoch 170/200\n",
      "11/11 [==============================] - 0s 4ms/step - loss: 2.5915 - mae: 1.1989 - val_loss: 10.4205 - val_mae: 2.2141\n",
      "Epoch 171/200\n",
      "11/11 [==============================] - 0s 4ms/step - loss: 2.3267 - mae: 1.1360 - val_loss: 10.1533 - val_mae: 2.1578\n",
      "Epoch 172/200\n",
      "11/11 [==============================] - 0s 4ms/step - loss: 2.6408 - mae: 1.2130 - val_loss: 11.3802 - val_mae: 2.2280\n",
      "Epoch 173/200\n",
      "11/11 [==============================] - 0s 4ms/step - loss: 2.7858 - mae: 1.2402 - val_loss: 11.6392 - val_mae: 2.2896\n",
      "Epoch 174/200\n",
      "11/11 [==============================] - 0s 4ms/step - loss: 2.3142 - mae: 1.1269 - val_loss: 11.1739 - val_mae: 2.2630\n",
      "Epoch 175/200\n",
      "11/11 [==============================] - 0s 4ms/step - loss: 2.0042 - mae: 1.0239 - val_loss: 11.4081 - val_mae: 2.2846\n",
      "Epoch 176/200\n",
      "11/11 [==============================] - 0s 5ms/step - loss: 2.4840 - mae: 1.1411 - val_loss: 10.0949 - val_mae: 2.1983\n",
      "Epoch 177/200\n",
      "11/11 [==============================] - 0s 4ms/step - loss: 1.9510 - mae: 1.0059 - val_loss: 11.1179 - val_mae: 2.2487\n",
      "Epoch 178/200\n",
      "11/11 [==============================] - 0s 4ms/step - loss: 2.0289 - mae: 1.0318 - val_loss: 12.5292 - val_mae: 2.3142\n",
      "Epoch 179/200\n",
      "11/11 [==============================] - 0s 4ms/step - loss: 2.1174 - mae: 1.0913 - val_loss: 10.0441 - val_mae: 2.2282\n",
      "Epoch 180/200\n",
      "11/11 [==============================] - 0s 4ms/step - loss: 2.1298 - mae: 1.0948 - val_loss: 10.3613 - val_mae: 2.1938\n",
      "Epoch 181/200\n",
      "11/11 [==============================] - 0s 4ms/step - loss: 2.4978 - mae: 1.1523 - val_loss: 11.1405 - val_mae: 2.2723\n",
      "Epoch 182/200\n",
      "11/11 [==============================] - 0s 4ms/step - loss: 2.4482 - mae: 1.1246 - val_loss: 9.8226 - val_mae: 2.1639\n",
      "Epoch 183/200\n",
      "11/11 [==============================] - 0s 4ms/step - loss: 2.5428 - mae: 1.2133 - val_loss: 12.1394 - val_mae: 2.3243\n",
      "Epoch 184/200\n"
     ]
    },
    {
     "name": "stdout",
     "output_type": "stream",
     "text": [
      "11/11 [==============================] - 0s 4ms/step - loss: 2.3392 - mae: 1.1724 - val_loss: 10.9278 - val_mae: 2.3797\n",
      "Epoch 185/200\n",
      "11/11 [==============================] - 0s 4ms/step - loss: 2.1450 - mae: 1.0802 - val_loss: 10.8789 - val_mae: 2.2151\n",
      "Epoch 186/200\n",
      "11/11 [==============================] - 0s 4ms/step - loss: 1.6704 - mae: 0.9201 - val_loss: 10.6264 - val_mae: 2.2728\n",
      "Epoch 187/200\n",
      "11/11 [==============================] - 0s 4ms/step - loss: 2.3571 - mae: 1.1321 - val_loss: 10.3033 - val_mae: 2.1472\n",
      "Epoch 188/200\n",
      "11/11 [==============================] - 0s 4ms/step - loss: 1.8479 - mae: 0.9921 - val_loss: 10.6054 - val_mae: 2.1957\n",
      "Epoch 189/200\n",
      "11/11 [==============================] - 0s 4ms/step - loss: 1.8198 - mae: 0.9809 - val_loss: 12.1462 - val_mae: 2.3321\n",
      "Epoch 190/200\n",
      "11/11 [==============================] - 0s 4ms/step - loss: 1.9472 - mae: 1.0533 - val_loss: 10.8178 - val_mae: 2.3044\n",
      "Epoch 191/200\n",
      "11/11 [==============================] - 0s 4ms/step - loss: 2.4219 - mae: 1.2012 - val_loss: 11.7092 - val_mae: 2.4710\n",
      "Epoch 192/200\n",
      "11/11 [==============================] - 0s 4ms/step - loss: 2.0905 - mae: 1.0711 - val_loss: 10.4213 - val_mae: 2.1971\n",
      "Epoch 193/200\n",
      "11/11 [==============================] - 0s 4ms/step - loss: 2.1608 - mae: 1.1076 - val_loss: 10.3200 - val_mae: 2.1888\n",
      "Epoch 194/200\n",
      "11/11 [==============================] - 0s 4ms/step - loss: 2.2431 - mae: 1.1056 - val_loss: 11.8835 - val_mae: 2.2597\n",
      "Epoch 195/200\n",
      "11/11 [==============================] - 0s 4ms/step - loss: 1.8586 - mae: 0.9946 - val_loss: 10.3842 - val_mae: 2.2122\n",
      "Epoch 196/200\n",
      "11/11 [==============================] - 0s 4ms/step - loss: 2.6464 - mae: 1.2237 - val_loss: 9.8803 - val_mae: 2.0844\n",
      "Epoch 197/200\n",
      "11/11 [==============================] - 0s 4ms/step - loss: 1.9733 - mae: 1.0509 - val_loss: 11.0003 - val_mae: 2.2658\n",
      "Epoch 198/200\n",
      "11/11 [==============================] - 0s 4ms/step - loss: 1.9208 - mae: 1.0145 - val_loss: 10.1284 - val_mae: 2.1448\n",
      "Epoch 199/200\n",
      "11/11 [==============================] - 0s 4ms/step - loss: 1.9724 - mae: 1.0537 - val_loss: 9.5856 - val_mae: 2.1459\n",
      "Epoch 200/200\n",
      "11/11 [==============================] - 0s 4ms/step - loss: 2.3013 - mae: 1.0924 - val_loss: 10.6450 - val_mae: 2.3056\n"
     ]
    }
   ],
   "source": [
    "%time\n",
    "\n",
    "history = model.fit(x_train,\n",
    "                    y_train,\n",
    "                    epochs= 200,\n",
    "                    validation_split = 0.2)"
   ]
  },
  {
   "cell_type": "code",
   "execution_count": 14,
   "id": "3e5a5e8b",
   "metadata": {},
   "outputs": [
    {
     "name": "stdout",
     "output_type": "stream",
     "text": [
      "dict_keys(['loss', 'mae', 'val_loss', 'val_mae'])\n",
      "{'loss': [525.6941528320312, 351.7708740234375, 125.13941192626953, 75.77042388916016, 40.13093948364258, 27.445270538330078, 22.526037216186523, 19.749773025512695, 17.80361557006836, 16.92142677307129, 15.137969017028809, 14.302542686462402, 13.878190040588379, 14.770456314086914, 13.126358985900879, 12.466080665588379, 11.699370384216309, 11.04831600189209, 10.765092849731445, 10.49707317352295, 10.183755874633789, 9.879778861999512, 9.680665969848633, 9.675107955932617, 9.521893501281738, 9.238625526428223, 8.980219841003418, 9.0899076461792, 8.777449607849121, 8.655583381652832, 8.398309707641602, 8.187249183654785, 8.743584632873535, 8.6822509765625, 8.220050811767578, 7.7049970626831055, 7.658603191375732, 7.612133026123047, 7.425282955169678, 8.609354972839355, 8.129250526428223, 8.720839500427246, 7.6964335441589355, 7.086719989776611, 6.762053489685059, 7.165075302124023, 6.557671070098877, 6.362804412841797, 6.313501834869385, 6.3211846351623535, 6.211902141571045, 6.271291255950928, 6.292055606842041, 6.360706806182861, 6.149138927459717, 5.784887790679932, 6.274268627166748, 6.202469825744629, 6.063046932220459, 5.508597373962402, 6.242830276489258, 6.167865753173828, 5.704583168029785, 5.822219371795654, 5.473345756530762, 6.11004638671875, 5.876271724700928, 5.424844264984131, 5.581813812255859, 5.340842247009277, 5.223226547241211, 5.14629602432251, 5.124912738800049, 4.673978328704834, 4.973572254180908, 4.742067813873291, 4.521578311920166, 4.47207498550415, 4.945373058319092, 4.5144362449646, 4.4284162521362305, 4.328010082244873, 4.527721881866455, 4.250718116760254, 4.153196811676025, 4.462998867034912, 4.252078056335449, 4.033971309661865, 4.155795097351074, 4.175673007965088, 4.0699543952941895, 4.1486101150512695, 4.191195487976074, 3.799839496612549, 3.9028539657592773, 3.655069351196289, 3.816479206085205, 3.566556215286255, 3.9011974334716797, 3.7270915508270264, 4.045407295227051, 3.8621153831481934, 4.451835632324219, 3.6037650108337402, 3.579434633255005, 3.3712615966796875, 3.2849197387695312, 3.38625431060791, 3.461225748062134, 3.1694986820220947, 3.1395349502563477, 3.3360581398010254, 3.369642972946167, 4.40079402923584, 4.1460466384887695, 3.4477875232696533, 3.11936616897583, 2.9489634037017822, 3.0676136016845703, 3.0723049640655518, 3.025491237640381, 3.2582898139953613, 3.0909292697906494, 3.1708288192749023, 3.5734100341796875, 2.984985113143921, 3.7909977436065674, 3.6888298988342285, 3.2471001148223877, 3.2385523319244385, 2.8218297958374023, 2.9795308113098145, 2.776589870452881, 2.6891140937805176, 2.665292501449585, 2.836886167526245, 2.6467909812927246, 2.4532933235168457, 2.7308919429779053, 5.671318054199219, 4.020950794219971, 3.1524908542633057, 2.613105297088623, 2.7642204761505127, 2.8213748931884766, 2.7660698890686035, 4.542098045349121, 3.25451922416687, 2.487152099609375, 2.377227306365967, 2.5404553413391113, 2.3162381649017334, 3.693051815032959, 2.552215576171875, 2.586890459060669, 2.165832996368408, 2.395078182220459, 2.2522943019866943, 2.3739922046661377, 2.717316150665283, 2.9656431674957275, 2.7252237796783447, 2.372495412826538, 2.2988905906677246, 2.5556983947753906, 2.6691207885742188, 2.0972979068756104, 2.238931894302368, 2.5125374794006348, 2.5914576053619385, 2.326690435409546, 2.640822649002075, 2.7857534885406494, 2.3142013549804688, 2.00419282913208, 2.483952522277832, 1.950997233390808, 2.0288617610931396, 2.1173529624938965, 2.129822015762329, 2.497807741165161, 2.448183536529541, 2.5428242683410645, 2.3391547203063965, 2.1450304985046387, 1.6704033613204956, 2.3570947647094727, 1.847861886024475, 1.819772481918335, 1.9472352266311646, 2.4218862056732178, 2.0905344486236572, 2.1607842445373535, 2.2431416511535645, 1.8586302995681763, 2.6463770866394043, 1.9733312129974365, 1.920785665512085, 1.9724140167236328, 2.3012866973876953], 'mae': [20.977832794189453, 16.42348861694336, 8.96641731262207, 6.501185894012451, 4.469281196594238, 3.5774240493774414, 3.3805325031280518, 3.13584041595459, 2.9196343421936035, 2.9043731689453125, 2.73649001121521, 2.655229330062866, 2.561502695083618, 2.879277229309082, 2.548743486404419, 2.4621522426605225, 2.4583730697631836, 2.3451993465423584, 2.2943599224090576, 2.27158260345459, 2.266498565673828, 2.202969551086426, 2.1561896800994873, 2.2110657691955566, 2.1397781372070312, 2.101661443710327, 2.0801496505737305, 2.136092185974121, 2.050614595413208, 2.047492742538452, 2.074415683746338, 1.9907524585723877, 2.003920078277588, 2.1476705074310303, 2.0428802967071533, 1.9549360275268555, 1.9740610122680664, 1.8884567022323608, 1.8804469108581543, 2.1226048469543457, 1.9795976877212524, 2.20853853225708, 2.0262978076934814, 1.9026353359222412, 1.8702411651611328, 1.9010348320007324, 1.8327301740646362, 1.7919517755508423, 1.7907376289367676, 1.7657067775726318, 1.7743394374847412, 1.7768715620040894, 1.7667083740234375, 1.8237828016281128, 1.718883752822876, 1.663540005683899, 1.7879130840301514, 1.7208303213119507, 1.7551069259643555, 1.625290870666504, 1.7726629972457886, 1.7881559133529663, 1.7112290859222412, 1.7094159126281738, 1.6179108619689941, 1.7881900072097778, 1.730899453163147, 1.6605201959609985, 1.725451946258545, 1.6147795915603638, 1.6350982189178467, 1.5780109167099, 1.6139633655548096, 1.5116443634033203, 1.5304118394851685, 1.5294286012649536, 1.4996813535690308, 1.462201714515686, 1.573793649673462, 1.4914394617080688, 1.48261559009552, 1.4770524501800537, 1.4746689796447754, 1.4506587982177734, 1.4610830545425415, 1.5140401124954224, 1.4750568866729736, 1.3952420949935913, 1.4339700937271118, 1.4636832475662231, 1.4615427255630493, 1.4484440088272095, 1.4933868646621704, 1.355570912361145, 1.3811542987823486, 1.3637181520462036, 1.3597079515457153, 1.3431618213653564, 1.3909106254577637, 1.3500128984451294, 1.4433681964874268, 1.3715976476669312, 1.495748519897461, 1.3374390602111816, 1.3312910795211792, 1.292911410331726, 1.2862510681152344, 1.2983405590057373, 1.3440308570861816, 1.260774850845337, 1.2669025659561157, 1.2965153455734253, 1.3206709623336792, 1.4934760332107544, 1.4719762802124023, 1.3154269456863403, 1.2771052122116089, 1.2338505983352661, 1.224286675453186, 1.265067219734192, 1.2410557270050049, 1.3404358625411987, 1.26015305519104, 1.2940731048583984, 1.393114447593689, 1.2388157844543457, 1.4153023958206177, 1.3843765258789062, 1.2803887128829956, 1.2979235649108887, 1.1876821517944336, 1.283987283706665, 1.1883586645126343, 1.1702306270599365, 1.172896385192871, 1.228646159172058, 1.1572085618972778, 1.1030969619750977, 1.181362271308899, 1.7740129232406616, 1.5451480150222778, 1.3090580701828003, 1.173842191696167, 1.2039060592651367, 1.2453510761260986, 1.1835304498672485, 1.6107442378997803, 1.33622145652771, 1.1086063385009766, 1.1173982620239258, 1.1582536697387695, 1.103707194328308, 1.3053001165390015, 1.199057936668396, 1.1901594400405884, 1.0706652402877808, 1.1205044984817505, 1.0706673860549927, 1.1447681188583374, 1.192466378211975, 1.2775745391845703, 1.1999168395996094, 1.1050302982330322, 1.0826457738876343, 1.2007856369018555, 1.2155596017837524, 1.036180853843689, 1.092951774597168, 1.151923656463623, 1.198862910270691, 1.1360458135604858, 1.2130252122879028, 1.2402300834655762, 1.1269065141677856, 1.0239474773406982, 1.1411060094833374, 1.0058590173721313, 1.0317500829696655, 1.0912861824035645, 1.094781517982483, 1.152334451675415, 1.124633550643921, 1.2133113145828247, 1.1724464893341064, 1.0801725387573242, 0.920116126537323, 1.1321158409118652, 0.9920976758003235, 0.980945885181427, 1.0533183813095093, 1.2012468576431274, 1.0711278915405273, 1.1075910329818726, 1.1056180000305176, 0.9946346879005432, 1.223738670349121, 1.0509333610534668, 1.0145132541656494, 1.0537328720092773, 1.0924055576324463], 'val_loss': [514.6494750976562, 253.738525390625, 77.53010559082031, 47.90519332885742, 39.74824142456055, 23.649789810180664, 21.005373001098633, 19.20000457763672, 17.64220428466797, 16.36579132080078, 15.742746353149414, 14.920615196228027, 14.35470962524414, 16.030838012695312, 13.83229923248291, 13.58253288269043, 13.346519470214844, 12.927383422851562, 12.460345268249512, 12.999303817749023, 12.75794506072998, 12.126031875610352, 12.359296798706055, 13.317172050476074, 12.710000038146973, 13.058313369750977, 12.430133819580078, 13.172173500061035, 12.644572257995605, 14.363656044006348, 13.379846572875977, 12.492691993713379, 12.994924545288086, 13.729264259338379, 13.711467742919922, 13.200406074523926, 13.533257484436035, 13.0928955078125, 14.711654663085938, 14.784045219421387, 13.381575584411621, 13.610998153686523, 12.411673545837402, 13.03394603729248, 12.62041187286377, 14.454648971557617, 13.051958084106445, 12.367880821228027, 12.081357955932617, 12.592117309570312, 12.773741722106934, 13.597433090209961, 12.951488494873047, 12.338175773620605, 12.918366432189941, 13.026073455810547, 11.761804580688477, 12.979276657104492, 12.70835018157959, 11.882925987243652, 14.104172706604004, 14.463854789733887, 12.992730140686035, 14.367733001708984, 12.619961738586426, 12.915961265563965, 13.628425598144531, 13.966392517089844, 14.73062515258789, 13.866819381713867, 12.141250610351562, 12.693117141723633, 11.859112739562988, 13.417278289794922, 13.40564250946045, 12.163708686828613, 11.885255813598633, 12.107645988464355, 13.425621032714844, 12.054051399230957, 13.269356727600098, 12.104022026062012, 12.105920791625977, 12.720344543457031, 12.58065414428711, 12.239805221557617, 12.11729907989502, 12.092350959777832, 12.311200141906738, 11.297232627868652, 11.961356163024902, 12.06552505493164, 11.971360206604004, 12.521187782287598, 11.745550155639648, 11.237174034118652, 12.042558670043945, 11.38643741607666, 13.062938690185547, 12.586475372314453, 11.067822456359863, 13.820633888244629, 11.17819595336914, 11.878599166870117, 11.69800853729248, 12.189372062683105, 11.177400588989258, 12.053775787353516, 10.79101848602295, 11.767763137817383, 11.889795303344727, 12.107444763183594, 11.256773948669434, 12.72689437866211, 10.759064674377441, 11.78982925415039, 10.937663078308105, 12.33460807800293, 11.788300514221191, 11.65157699584961, 12.675040245056152, 10.748592376708984, 11.205525398254395, 12.35813045501709, 10.803201675415039, 12.957657814025879, 11.782279014587402, 13.217246055603027, 12.417923927307129, 11.160395622253418, 11.666556358337402, 10.980855941772461, 11.119749069213867, 10.100184440612793, 12.04672622680664, 9.957884788513184, 11.181114196777344, 10.044119834899902, 12.694676399230957, 12.000418663024902, 14.235091209411621, 10.292929649353027, 10.993202209472656, 12.243335723876953, 11.34680461883545, 11.149277687072754, 14.195894241333008, 10.382795333862305, 10.614255905151367, 12.561137199401855, 10.999985694885254, 10.52072525024414, 9.732269287109375, 10.99368667602539, 10.639753341674805, 10.287069320678711, 11.29493522644043, 10.142244338989258, 11.00467300415039, 9.994874954223633, 12.521025657653809, 10.477070808410645, 11.974291801452637, 10.828421592712402, 10.875221252441406, 11.511536598205566, 10.66645622253418, 10.394864082336426, 11.20921516418457, 10.420487403869629, 10.15329360961914, 11.380158424377441, 11.639165878295898, 11.173869132995605, 11.408119201660156, 10.094922065734863, 11.117907524108887, 12.529176712036133, 10.044069290161133, 10.361287117004395, 11.140547752380371, 9.822616577148438, 12.139412879943848, 10.927826881408691, 10.878913879394531, 10.626434326171875, 10.303336143493652, 10.605416297912598, 12.146212577819824, 10.817843437194824, 11.709222793579102, 10.421319961547852, 10.319984436035156, 11.883460998535156, 10.384244918823242, 9.88031005859375, 11.000296592712402, 10.128421783447266, 9.585648536682129, 10.645030975341797], 'val_mae': [20.69521141052246, 13.533028602600098, 6.866876125335693, 5.228433132171631, 4.5090484619140625, 3.668569326400757, 3.4681363105773926, 3.302022933959961, 3.1669440269470215, 3.053539991378784, 2.971137046813965, 2.934929847717285, 2.8830389976501465, 2.954681873321533, 2.892347812652588, 2.7581377029418945, 2.7192978858947754, 2.690453290939331, 2.6622579097747803, 2.656550645828247, 2.645940065383911, 2.657331943511963, 2.6216702461242676, 2.6216061115264893, 2.6216354370117188, 2.609994411468506, 2.589622974395752, 2.5984256267547607, 2.675018310546875, 2.6670339107513428, 2.623663902282715, 2.5612947940826416, 2.6515283584594727, 2.5734193325042725, 2.7385528087615967, 2.5632779598236084, 2.604248046875, 2.584594964981079, 2.623654842376709, 2.6844611167907715, 2.737013101577759, 2.5911078453063965, 2.6580381393432617, 2.538327693939209, 2.537010431289673, 2.73742413520813, 2.5433895587921143, 2.4692397117614746, 2.467998504638672, 2.5038492679595947, 2.5125529766082764, 2.6223762035369873, 2.502406120300293, 2.478015661239624, 2.4922704696655273, 2.4831008911132812, 2.4205892086029053, 2.5041544437408447, 2.456507921218872, 2.5000431537628174, 2.5665502548217773, 2.627279281616211, 2.5403177738189697, 2.626290798187256, 2.453993797302246, 2.5582919120788574, 2.539910316467285, 2.4461827278137207, 2.56500244140625, 2.4622304439544678, 2.4494099617004395, 2.3964974880218506, 2.3715624809265137, 2.42749285697937, 2.4670886993408203, 2.3800485134124756, 2.3813865184783936, 2.401517152786255, 2.4642884731292725, 2.3918416500091553, 2.3954033851623535, 2.362111806869507, 2.4180727005004883, 2.3846933841705322, 2.42876935005188, 2.3783955574035645, 2.4148077964782715, 2.373544454574585, 2.379041910171509, 2.323305130004883, 2.3883841037750244, 2.346534252166748, 2.361677646636963, 2.3434500694274902, 2.332570791244507, 2.3100249767303467, 2.2955944538116455, 2.343583106994629, 2.3681695461273193, 2.3432960510253906, 2.348426342010498, 2.4462625980377197, 2.34464430809021, 2.3519515991210938, 2.275240659713745, 2.315985679626465, 2.2781691551208496, 2.3225975036621094, 2.247983694076538, 2.2695279121398926, 2.323270797729492, 2.2829744815826416, 2.2474918365478516, 2.450608968734741, 2.2987117767333984, 2.253347396850586, 2.2702219486236572, 2.295267105102539, 2.2754814624786377, 2.3089611530303955, 2.319779396057129, 2.260983943939209, 2.248504400253296, 2.319927930831909, 2.2465147972106934, 2.3858001232147217, 2.2518467903137207, 2.3646302223205566, 2.328626871109009, 2.201272964477539, 2.239980459213257, 2.287720203399658, 2.2077057361602783, 2.1906325817108154, 2.2820770740509033, 2.150588274002075, 2.190032720565796, 2.177391290664673, 2.430479049682617, 2.4950575828552246, 2.4483509063720703, 2.229923963546753, 2.241440773010254, 2.2963662147521973, 2.277784824371338, 2.283134937286377, 2.613457679748535, 2.17406964302063, 2.1957554817199707, 2.3024098873138428, 2.2625508308410645, 2.199357271194458, 2.166616916656494, 2.2934257984161377, 2.2148003578186035, 2.1713004112243652, 2.241647481918335, 2.1896450519561768, 2.2089715003967285, 2.2390973567962646, 2.3957998752593994, 2.243159294128418, 2.3101584911346436, 2.2261009216308594, 2.3687124252319336, 2.2878036499023438, 2.195035934448242, 2.2130825519561768, 2.2932896614074707, 2.2140824794769287, 2.157846212387085, 2.2280113697052, 2.2896111011505127, 2.262960910797119, 2.2846012115478516, 2.1983234882354736, 2.248711347579956, 2.3142147064208984, 2.228182792663574, 2.193845272064209, 2.2722725868225098, 2.1639339923858643, 2.324256658554077, 2.3797109127044678, 2.215095281600952, 2.272754430770874, 2.1471874713897705, 2.1957311630249023, 2.332127094268799, 2.304413318634033, 2.47096586227417, 2.1971001625061035, 2.188817262649536, 2.259718418121338, 2.2122275829315186, 2.0844156742095947, 2.2657620906829834, 2.144794225692749, 2.1459269523620605, 2.305600881576538]}\n"
     ]
    }
   ],
   "source": [
    "print(history.history.keys())\n",
    "print(history.history)"
   ]
  },
  {
   "cell_type": "code",
   "execution_count": 15,
   "id": "002dbead",
   "metadata": {},
   "outputs": [
    {
     "name": "stdout",
     "output_type": "stream",
     "text": [
      "4/4 [==============================] - 0s 2ms/step - loss: 16.8841 - mae: 2.8907\n"
     ]
    }
   ],
   "source": [
    "loss, mae = model.evaluate(x_test, y_test)"
   ]
  },
  {
   "cell_type": "code",
   "execution_count": 16,
   "id": "f4c08b04",
   "metadata": {},
   "outputs": [
    {
     "data": {
      "image/png": "[encoded data removed]",
      "text/plain": [
       "<Figure size 1200x600 with 1 Axes>"
      ]
     },
     "metadata": {},
     "output_type": "display_data"
    }
   ],
   "source": [
    "plt.rcParams['figure.figsize'] = (12.0, 6.0)\n",
    "plt.plot(history.history['loss'])\n",
    "plt.plot(history.history['val_loss'])\n",
    "plt.legend(['Taxa de Perda',\n",
    "            'Taxa de Perda(Validacao)'],\n",
    "            loc = 'upper right', fontsize = 'x-large')\n",
    "plt.xlabel('Epocas de processamento', fontsize = 16)\n",
    "plt.ylabel('Valor', fontsize = 16)\n",
    "plt.title('Taxa de Perda', fontsize = 18)\n",
    "plt.show()"
   ]
  },
  {
   "cell_type": "code",
   "execution_count": 17,
   "id": "cf860ee6",
   "metadata": {},
   "outputs": [
    {
     "data": {
      "image/png": "[encoded data removed]",
      "text/plain": [
       "<Figure size 1200x600 with 1 Axes>"
      ]
     },
     "metadata": {},
     "output_type": "display_data"
    }
   ],
   "source": [
    "plt.rcParams['figure.figsize'] = (12.0, 6.0)\n",
    "plt.plot(history.history['mae'])\n",
    "plt.legend(['Erro absoluto'],\n",
    "          loc = 'upper right', fontsize = 'x-large')\n",
    "plt.xlabel('Epocas de processamento', fontsize = 16)\n",
    "plt.ylabel('Valor', fontsize = 16)\n",
    "plt.title('Erro absoluto médio', fontsize = 18)\n",
    "plt.show()"
   ]
  },
  {
   "cell_type": "code",
   "execution_count": 18,
   "id": "12dc3adb",
   "metadata": {},
   "outputs": [
    {
     "name": "stdout",
     "output_type": "stream",
     "text": [
      "1/1 [==============================] - 0s 63ms/step\n"
     ]
    }
   ],
   "source": [
    "x_new = x_test[:10]\n",
    "y_pred = model.predict(x_new)"
   ]
  },
  {
   "cell_type": "code",
   "execution_count": 19,
   "id": "d62fb7d2",
   "metadata": {},
   "outputs": [
    {
     "name": "stdout",
     "output_type": "stream",
     "text": [
      "[8.734448]\n"
     ]
    }
   ],
   "source": [
    "print(y_pred[0])"
   ]
  },
  {
   "cell_type": "code",
   "execution_count": 20,
   "id": "a4a8876e",
   "metadata": {},
   "outputs": [],
   "source": [
    "model.save('./regressor.h5')\n",
    "model.save_weights('./regressor_weights.h5')"
   ]
  },
  {
   "cell_type": "code",
   "execution_count": 21,
   "id": "96518e03",
   "metadata": {
    "scrolled": false
   },
   "outputs": [
    {
     "name": "stdout",
     "output_type": "stream",
     "text": [
      "1/1 [==============================] - 0s 15ms/step\n",
      "[8.734448]\n"
     ]
    }
   ],
   "source": [
    "x_new = x_test[:25]\n",
    "z_pred = model.predict(x_new)\n",
    "print(z_pred[0])"
   ]
  },
  {
   "cell_type": "code",
   "execution_count": 22,
   "id": "005fd6ee",
   "metadata": {},
   "outputs": [],
   "source": [
    "model = Sequential()\n",
    "model = load_model('./regressor.h5')\n",
    "model.load_weights('./regressor.h5')"
   ]
  }
 ],
 "metadata": {
  "kernelspec": {
   "display_name": "Python 3 (ipykernel)",
   "language": "python",
   "name": "python3"
  },
  "language_info": {
   "codemirror_mode": {
    "name": "ipython",
    "version": 3
   },
   "file_extension": ".py",
   "mimetype": "text/x-python",
   "name": "python",
   "nbconvert_exporter": "python",
   "pygments_lexer": "ipython3",
   "version": "3.10.10"
  }
 },
 "nbformat": 4,
 "nbformat_minor": 5
}
